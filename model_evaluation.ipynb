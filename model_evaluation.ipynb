{
  "nbformat": 4,
  "nbformat_minor": 0,
  "metadata": {
    "colab": {
      "provenance": []
    },
    "kernelspec": {
      "name": "python3",
      "display_name": "Python 3"
    },
    "language_info": {
      "name": "python"
    }
  },
  "cells": [
    {
      "cell_type": "code",
      "execution_count": 2,
      "metadata": {
        "colab": {
          "base_uri": "https://localhost:8080/"
        },
        "id": "hMECQekfzD9j",
        "outputId": "6c2264bd-a4c7-41b6-e0bf-5a1aac3d310d"
      },
      "outputs": [
        {
          "output_type": "stream",
          "name": "stdout",
          "text": [
            "Drive already mounted at /content/drive; to attempt to forcibly remount, call drive.mount(\"/content/drive\", force_remount=True).\n"
          ]
        }
      ],
      "source": [
        "import numpy as np\n",
        "import pandas as pd\n",
        "from google.colab import drive\n",
        "drive.mount('/content/drive')"
      ]
    },
    {
      "cell_type": "code",
      "source": [
        "import pickle\n",
        "import numpy as np\n",
        "import pandas as pd\n",
        "from sklearn.metrics import classification_report, confusion_matrix, accuracy_score\n",
        "\n",
        "def predict_logistic(X, cutoff=0.5):\n",
        "    with open('/content/drive/MyDrive/data/logistic.pkl', 'rb') as f:\n",
        "      logistic_model = pickle.load(f)\n",
        "    with open('/content/drive/MyDrive/data/logistic_vectorizer.pkl', 'rb') as f:\n",
        "      vectorizer = pickle.load(f)\n",
        "\n",
        "    X_vectorized = vectorizer.transform(X)\n",
        "    y = logistic_model.predict_proba(X_vectorized)[:, 1]\n",
        "    y_pred = (y >= cutoff).astype(int)\n",
        "    return y_pred\n",
        "\n",
        "def predict_pac(X, cutoff=0.5):\n",
        "    with open('/content/drive/MyDrive/data/pac_pipeline.pkl', 'rb') as f:\n",
        "      pac_model = pickle.load(f)\n",
        "\n",
        "    y = pac_model.predict(X)\n",
        "    y_pred = (y >= cutoff).astype(int)\n",
        "    return y_pred\n",
        "\n",
        "def predict_svm(X, cutoff=0.5):\n",
        "    with open('/content/drive/MyDrive/data/svc_pipeline.pkl', 'rb') as f:\n",
        "      svm_model = pickle.load(f)\n",
        "\n",
        "    y = svm_model.predict(X)\n",
        "    y_pred = (y >= cutoff).astype(int)\n",
        "    return y_pred\n",
        "\n",
        "def predict_decision_tree(X, cutoff=0.5):\n",
        "    with open('/content/drive/MyDrive/data/decision_tree_model.pkl', 'rb') as f:\n",
        "      dtc_model = pickle.load(f)\n",
        "    with open('/content/drive/MyDrive/data/decision_tree_vectorizer.pkl', 'rb') as f:\n",
        "      vectorizer = pickle.load(f)\n",
        "\n",
        "    X_vectorized = vectorizer.transform(X)\n",
        "    y = dtc_model.predict(X_vectorized)\n",
        "    y_pred = (y >= cutoff).astype(int)\n",
        "    return y_pred\n",
        "\n",
        "def predict_random_forest(X, cutoff=0.5):\n",
        "    with open('/content/drive/MyDrive/data/random_forest_model.pkl', 'rb') as f:\n",
        "      rfc_model = pickle.load(f)\n",
        "    with open('/content/drive/MyDrive/data/random_forest_vectorizer.pkl', 'rb') as f:\n",
        "      vectorizer = pickle.load(f)\n",
        "\n",
        "    X_vectorized = vectorizer.transform(X)\n",
        "    y = rfc_model.predict(X_vectorized)\n",
        "    y_pred = (y >= cutoff).astype(int)\n",
        "    return y_pred\n",
        "\n",
        "def predict_gradient_boosting(X, cutoff=0.5):\n",
        "    with open('/content/drive/MyDrive/data/gradient_boosting_model.pkl', 'rb') as f:\n",
        "      gbc_model = pickle.load(f)\n",
        "    with open('/content/drive/MyDrive/data/gradient_boosting_vectorizer.pkl', 'rb') as f:\n",
        "      vectorizer = pickle.load(f)\n",
        "\n",
        "    X_vectorized = vectorizer.transform(X)\n",
        "    y = gbc_model.predict(X_vectorized)\n",
        "    y_pred = (y >= cutoff).astype(int)\n",
        "    return y_pred\n",
        "\n",
        "def predict_xgboost(X, cutoff=0.5):\n",
        "    with open('/content/drive/MyDrive/data/xgboost_pipeline.pkl', 'rb') as f:\n",
        "      xgboost_model = pickle.load(f)\n",
        "\n",
        "    y = xgboost_model.predict(X)\n",
        "    y_pred = (y >= cutoff).astype(int)\n",
        "    return y_pred\n",
        "\n",
        "def vote(X, cutoff=0.5):\n",
        "    logistic_pred = predict_logistic(X, cutoff)\n",
        "    pac_pred = predict_pac(X, cutoff)\n",
        "    svm_pred = predict_svm(X, cutoff)\n",
        "    dtc_pred = predict_decision_tree(X, cutoff)\n",
        "    rfc_pred = predict_random_forest(X, cutoff)\n",
        "    gbc_pred = predict_gradient_boosting(X, cutoff)\n",
        "    xgboost_pred = predict_xgboost(X, cutoff)\n",
        "\n",
        "    y_pred = (logistic_pred + pac_pred + svm_pred + dtc_pred + rfc_pred + gbc_pred + xgboost_pred)\n",
        "    y_status = np.array([])\n",
        "    for i in range(len(y_pred)):\n",
        "      if y_pred[i] >= 4:\n",
        "          y_status = np.append(y_status, f\"Berita palsu dengan probabilitas {y_pred[i] / 7 * 100:.2f}%\")\n",
        "      else:\n",
        "          y_status = np.append(y_status, f\"Berita asli dengan probabilitas {(7 - y_pred[i]) / 7 * 100:.2f}%\")\n",
        "    y_pred = (y_pred >= 4).astype(int)\n",
        "    return y_pred, y_status\n",
        "\n",
        "df = pd.read_csv('/content/drive/MyDrive/data/val_10k.csv')\n",
        "X = df['news']\n",
        "y = df['is_fake']\n",
        "\n",
        "print(\"Logistic Regression\")\n",
        "y_pred = predict_logistic(X)\n",
        "print(f\"Akurasi = {accuracy_score(y, y_pred) * 100:.2f}%\\n\")\n",
        "\n",
        "print(\"PAC\")\n",
        "y_pred = predict_pac(X)\n",
        "print(f\"Akurasi = {accuracy_score(y, y_pred) * 100:.2f}%\\n\")\n",
        "\n",
        "print(\"SVM\")\n",
        "y_pred = predict_svm(X)\n",
        "print(f\"Akurasi = {accuracy_score(y, y_pred) * 100:.2f}%\\n\")\n",
        "\n",
        "print(\"Decision Tree\")\n",
        "y_pred = predict_decision_tree(X)\n",
        "print(f\"Akurasi = {accuracy_score(y, y_pred) * 100:.2f}%\\n\")\n",
        "\n",
        "print(\"Random Forest\")\n",
        "y_pred = predict_random_forest(X)\n",
        "print(f\"Akurasi = {accuracy_score(y, y_pred) * 100:.2f}%\\n\")\n",
        "\n",
        "print(\"Gradient Boosting\")\n",
        "y_pred = predict_gradient_boosting(X)\n",
        "print(f\"Akurasi = {accuracy_score(y, y_pred) * 100:.2f}%\\n\")\n",
        "\n",
        "print(\"XGBoost\")\n",
        "y_pred = predict_xgboost(X)\n",
        "print(f\"Akurasi = {accuracy_score(y, y_pred) * 100:.2f}%\\n\")\n",
        "\n",
        "print(\"Voting system\")\n",
        "y_pred, y_status = vote(X)\n",
        "print(f\"Akurasi = {accuracy_score(y, y_pred) * 100:.2f}%\\n\")\n",
        "print(y_status[:10])\n",
        "print(classification_report(y, y_pred))"
      ],
      "metadata": {
        "colab": {
          "base_uri": "https://localhost:8080/"
        },
        "id": "Jsh807MOzmPU",
        "outputId": "ea4c42d4-6a0c-462c-f68d-93f78ea4a0fd"
      },
      "execution_count": 1,
      "outputs": [
        {
          "output_type": "stream",
          "name": "stdout",
          "text": [
            "Logistic Regression\n",
            "Akurasi = 96.09%\n",
            "\n",
            "PAC\n",
            "Akurasi = 97.12%\n",
            "\n",
            "SVM\n",
            "Akurasi = 97.27%\n",
            "\n",
            "Decision Tree\n",
            "Akurasi = 94.27%\n",
            "\n",
            "Random Forest\n",
            "Akurasi = 96.75%\n",
            "\n",
            "Gradient Boosting\n",
            "Akurasi = 95.58%\n",
            "\n",
            "XGBoost\n",
            "Akurasi = 97.19%\n",
            "\n",
            "Voting system\n",
            "Akurasi = 97.66%\n",
            "\n",
            "['Berita asli dengan probabilitas 100.00%'\n",
            " 'Berita asli dengan probabilitas 100.00%'\n",
            " 'Berita palsu dengan probabilitas 100.00%'\n",
            " 'Berita palsu dengan probabilitas 85.71%'\n",
            " 'Berita palsu dengan probabilitas 100.00%'\n",
            " 'Berita asli dengan probabilitas 100.00%'\n",
            " 'Berita asli dengan probabilitas 85.71%'\n",
            " 'Berita asli dengan probabilitas 100.00%'\n",
            " 'Berita palsu dengan probabilitas 100.00%'\n",
            " 'Berita palsu dengan probabilitas 100.00%']\n",
            "              precision    recall  f1-score   support\n",
            "\n",
            "           0       0.98      0.97      0.98      4729\n",
            "           1       0.97      0.98      0.98      5271\n",
            "\n",
            "    accuracy                           0.98     10000\n",
            "   macro avg       0.98      0.98      0.98     10000\n",
            "weighted avg       0.98      0.98      0.98     10000\n",
            "\n"
          ]
        }
      ]
    },
    {
      "cell_type": "code",
      "source": [
        "import matplotlib.pyplot as plt\n",
        "import seaborn as sns\n",
        "\n",
        "cfm = confusion_matrix(y, y_pred)\n",
        "plt.figure(figsize=(8, 6))\n",
        "sns.heatmap(cfm, fmt='.0f', annot=True, cmap='Blues',\n",
        "            xticklabels=['Not Fake', 'Fake'],\n",
        "            yticklabels=['Not Fake', 'Fake'])\n",
        "plt.xlabel('Predicted')\n",
        "plt.ylabel('Actual')\n",
        "plt.title('Confusion Matrix on Evaluation Set')\n",
        "plt.show()"
      ],
      "metadata": {
        "colab": {
          "base_uri": "https://localhost:8080/",
          "height": 564
        },
        "id": "ZCTpT8e4B9V-",
        "outputId": "89b73977-9a74-4322-8d76-fe311431c5a9"
      },
      "execution_count": 2,
      "outputs": [
        {
          "output_type": "display_data",
          "data": {
            "text/plain": [
              "<Figure size 800x600 with 2 Axes>"
            ],
            "image/png": "[encoded data removed]"
          },
          "metadata": {}
        }
      ]
    }
  ]
}