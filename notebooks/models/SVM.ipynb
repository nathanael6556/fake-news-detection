{
  "nbformat": 4,
  "nbformat_minor": 0,
  "metadata": {
    "colab": {
      "provenance": []
    },
    "kernelspec": {
      "name": "python3",
      "display_name": "Python 3"
    },
    "language_info": {
      "name": "python"
    }
  },
  "cells": [
    {
      "cell_type": "code",
      "execution_count": null,
      "metadata": {
        "id": "Q_2OMt1SC2LM"
      },
      "outputs": [],
      "source": [
        "import pandas as pd\n",
        "from sklearn.pipeline import Pipeline\n",
        "from sklearn.svm import SVC\n",
        "from sklearn.feature_extraction.text import TfidfVectorizer\n",
        "from sklearn.model_selection import cross_val_score\n",
        "from sklearn.model_selection import StratifiedKFold\n",
        "from sklearn.model_selection import train_test_split\n",
        "from sklearn.metrics import classification_report, confusion_matrix, accuracy_score\n",
        "import pickle"
      ]
    },
    {
      "cell_type": "code",
      "source": [
        "from google.colab import drive\n",
        "drive.mount('/content/drive')"
      ],
      "metadata": {
        "id": "bTJAWQ1MEmZ9"
      },
      "execution_count": null,
      "outputs": []
    },
    {
      "cell_type": "code",
      "source": [
        "df = pd.read_csv('/content/drive/MyDrive/data/elongated_10k.csv')\n",
        "X = df['news']\n",
        "y = df['is_fake']\n",
        "X_train, X_holdout, y_train, y_holdout = train_test_split(X, y, test_size=0.2, random_state=42, stratify=y)"
      ],
      "metadata": {
        "id": "-jy5NH3TDNpD"
      },
      "execution_count": null,
      "outputs": []
    },
    {
      "cell_type": "code",
      "source": [
        "pipe_svm = Pipeline(\n",
        "    [\n",
        "        (\"vectorizer\", TfidfVectorizer()),\n",
        "        (\"classifier\", SVC(probability=True, random_state=17)),\n",
        "    ],\n",
        "    verbose=True,\n",
        ")\n",
        "\n",
        "n_splits = 5\n",
        "cv = StratifiedKFold(n_splits=n_splits, random_state=17, shuffle=True)\n",
        "\n",
        "scoring = \"accuracy\"\n",
        "\n",
        "scores_svm = cross_val_score(pipe_svm, X_train, y_train, scoring=scoring, cv=cv)\n",
        "print(f\"{scoring}: %0.2f (+/- %0.2f)\" % (scores_svm.mean(), scores_svm.std() * 2))"
      ],
      "metadata": {
        "id": "COfWF6ctD4W4"
      },
      "execution_count": null,
      "outputs": []
    },
    {
      "cell_type": "code",
      "source": [
        "pipe_svm.fit(X_train, y_train)"
      ],
      "metadata": {
        "id": "qXjLdVv5ED6E"
      },
      "execution_count": null,
      "outputs": []
    },
    {
      "cell_type": "code",
      "source": [
        "with open('/content/drive/My Drive/data/svc_pipeline.pkl', 'wb') as file:\n",
        "    pickle.dump(pipe_svm, file)"
      ],
      "metadata": {
        "id": "qWjfje8p97ni"
      },
      "execution_count": null,
      "outputs": []
    },
    {
      "cell_type": "code",
      "source": [
        "y_pred = pipe_svm.predict(X_holdout)\n",
        "print(\"\\nHoldout Accuracy:\", accuracy_score(y_holdout, y_pred))\n",
        "print(\"\\nClassification Report on Holdout Set:\")\n",
        "print(classification_report(y_holdout, y_pred))\n",
        "print(\"\\nConfusion Matrix on Holdout Set:\")\n",
        "print(confusion_matrix(y_holdout, y_pred))"
      ],
      "metadata": {
        "id": "erQqizswETcI"
      },
      "execution_count": null,
      "outputs": []
    }
  ]
}